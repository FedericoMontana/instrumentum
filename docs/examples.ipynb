{
 "cells": [
  {
   "cell_type": "markdown",
   "metadata": {},
   "source": [
    "# Examples:\n",
    "\n",
    "- [Feature Engineering](#feat_eng)\n",
    "- [Model Tuning](#model_tuning)\n",
    "- [Feature Selection - Stepwise](#stepwise)\n",
    "- [Feature Selection - Correlation Cluster](#clustering)"
   ]
  },
  {
   "cell_type": "markdown",
   "metadata": {},
   "source": [
    "## Feature Engineering <a id='feat_eng'></a>"
   ]
  },
  {
   "cell_type": "code",
   "execution_count": 1,
   "metadata": {},
   "outputs": [
    {
     "name": "stderr",
     "output_type": "stream",
     "text": [
      "22-07-03 14:07 | INFO | Total number of interactions calculated: 8\n",
      "22-07-03 14:07 | INFO | Function fit executed in 0.004540205001831055 seconds\n",
      "22-07-03 14:07 | DEBUG | New feature created: a_sum_b\n",
      "22-07-03 14:07 | DEBUG | New feature created: a_prod_b\n",
      "22-07-03 14:07 | DEBUG | New feature created: a_sum_c\n",
      "22-07-03 14:07 | DEBUG | New feature created: a_prod_c\n",
      "22-07-03 14:07 | DEBUG | New feature created: b_sum_c\n",
      "22-07-03 14:07 | DEBUG | New feature created: b_prod_c\n",
      "22-07-03 14:07 | DEBUG | New feature created: a_sum_b_sum_c\n",
      "22-07-03 14:07 | DEBUG | New feature created: a_prod_b_prod_c\n"
     ]
    },
    {
     "data": {
      "text/html": [
       "<div>\n",
       "<style scoped>\n",
       "    .dataframe tbody tr th:only-of-type {\n",
       "        vertical-align: middle;\n",
       "    }\n",
       "\n",
       "    .dataframe tbody tr th {\n",
       "        vertical-align: top;\n",
       "    }\n",
       "\n",
       "    .dataframe thead th {\n",
       "        text-align: right;\n",
       "    }\n",
       "</style>\n",
       "<table border=\"1\" class=\"dataframe\">\n",
       "  <thead>\n",
       "    <tr style=\"text-align: right;\">\n",
       "      <th></th>\n",
       "      <th>a</th>\n",
       "      <th>b</th>\n",
       "      <th>c</th>\n",
       "      <th>a_sum_b</th>\n",
       "      <th>a_prod_b</th>\n",
       "      <th>a_sum_c</th>\n",
       "      <th>a_prod_c</th>\n",
       "      <th>b_sum_c</th>\n",
       "      <th>b_prod_c</th>\n",
       "      <th>a_sum_b_sum_c</th>\n",
       "      <th>a_prod_b_prod_c</th>\n",
       "    </tr>\n",
       "  </thead>\n",
       "  <tbody>\n",
       "    <tr>\n",
       "      <th>0</th>\n",
       "      <td>5.0</td>\n",
       "      <td>2.0</td>\n",
       "      <td>3.0</td>\n",
       "      <td>7.0</td>\n",
       "      <td>10.0</td>\n",
       "      <td>8.0</td>\n",
       "      <td>15.0</td>\n",
       "      <td>5.0</td>\n",
       "      <td>6.0</td>\n",
       "      <td>10.0</td>\n",
       "      <td>30.0</td>\n",
       "    </tr>\n",
       "    <tr>\n",
       "      <th>1</th>\n",
       "      <td>5.0</td>\n",
       "      <td>2.0</td>\n",
       "      <td>3.0</td>\n",
       "      <td>7.0</td>\n",
       "      <td>10.0</td>\n",
       "      <td>8.0</td>\n",
       "      <td>15.0</td>\n",
       "      <td>5.0</td>\n",
       "      <td>6.0</td>\n",
       "      <td>10.0</td>\n",
       "      <td>30.0</td>\n",
       "    </tr>\n",
       "    <tr>\n",
       "      <th>2</th>\n",
       "      <td>1.0</td>\n",
       "      <td>2.0</td>\n",
       "      <td>3.0</td>\n",
       "      <td>3.0</td>\n",
       "      <td>2.0</td>\n",
       "      <td>4.0</td>\n",
       "      <td>3.0</td>\n",
       "      <td>5.0</td>\n",
       "      <td>6.0</td>\n",
       "      <td>6.0</td>\n",
       "      <td>6.0</td>\n",
       "    </tr>\n",
       "  </tbody>\n",
       "</table>\n",
       "</div>"
      ],
      "text/plain": [
       "     a    b    c  a_sum_b  a_prod_b  a_sum_c  a_prod_c  b_sum_c  b_prod_c  \\\n",
       "0  5.0  2.0  3.0      7.0      10.0      8.0      15.0      5.0       6.0   \n",
       "1  5.0  2.0  3.0      7.0      10.0      8.0      15.0      5.0       6.0   \n",
       "2  1.0  2.0  3.0      3.0       2.0      4.0       3.0      5.0       6.0   \n",
       "\n",
       "   a_sum_b_sum_c  a_prod_b_prod_c  \n",
       "0           10.0             30.0  \n",
       "1           10.0             30.0  \n",
       "2            6.0              6.0  "
      ]
     },
     "execution_count": 1,
     "metadata": {},
     "output_type": "execute_result"
    }
   ],
   "source": [
    "%load_ext autoreload\n",
    "%autoreload 2\n",
    "\n",
    "from instrumentum.feature_generation.interactions import Interactions\n",
    "import pandas as pd\n",
    "import numpy as np\n",
    "import logging\n",
    "\n",
    "\n",
    "arr = np.array([[5, 2, 3], [5, 2, 3], [1, 2, 3]])\n",
    "arr = pd.DataFrame(arr, columns=[\"a\", \"b\", \"c\"])\n",
    "\n",
    "interactions = Interactions(operations=[\"sum\", \"prod\"], degree=(2, 3), verbose=logging.DEBUG)\n",
    "interactions.fit(arr)\n",
    "\n",
    "\n",
    "pd.DataFrame(interactions.transform(arr), columns=interactions.get_feature_names_out())"
   ]
  },
  {
   "cell_type": "markdown",
   "metadata": {},
   "source": [
    "## Model Tuning <a id='model_tuning'></a>"
   ]
  },
  {
   "cell_type": "code",
   "execution_count": 2,
   "metadata": {},
   "outputs": [
    {
     "name": "stderr",
     "output_type": "stream",
     "text": [
      "22-07-03 14:08 | INFO | Trials: 1, Best Score: 0.9505661523854545, Score 0.9505661523854545\n",
      "22-07-03 14:08 | INFO | Trials: 2, Best Score: 0.9505661523854545, Score 0.8882561204800588\n",
      "22-07-03 14:08 | INFO | Trials: 3, Best Score: 0.9505661523854545, Score 0.9363792124729292\n",
      "22-07-03 14:08 | INFO | Trials: 4, Best Score: 0.9529435309536746, Score 0.9529435309536746\n",
      "22-07-03 14:08 | INFO | Trials: 5, Best Score: 0.9529435309536746, Score 0.9503383380802995\n"
     ]
    },
    {
     "name": "stdout",
     "output_type": "stream",
     "text": [
      "\n",
      "Best parameters:  {'max_depth': 3, 'criterion': 'entropy'}\n",
      "Best score cv:  0.9529435309536746\n",
      "Scoring fwith best parameters:  0.9495986837807825\n"
     ]
    }
   ],
   "source": [
    "# Model Tuning\n",
    "from instrumentum.model_tuning.wrapper_optuna import OptunaSearchCV\n",
    "from instrumentum.model_tuning._optuna_dispatchers import optuna_param_disp\n",
    "\n",
    "from sklearn.tree import DecisionTreeClassifier\n",
    "from sklearn.datasets import make_classification\n",
    "from sklearn.model_selection import RepeatedStratifiedKFold\n",
    "from sklearn.model_selection import train_test_split\n",
    "\n",
    "import logging\n",
    "\n",
    "X, y = make_classification(\n",
    "    n_samples=3000, n_features=10, n_informative=3, random_state=111\n",
    ")\n",
    "\n",
    "X_train, X_test, y_train, y_test = train_test_split(\n",
    "    X, y, test_size=0.33, random_state=42\n",
    ")\n",
    "\n",
    "\n",
    "search_function = optuna_param_disp[DecisionTreeClassifier.__name__]\n",
    "cv = RepeatedStratifiedKFold(n_splits=5, n_repeats=2)\n",
    "\n",
    "os = OptunaSearchCV(\n",
    "    estimator=DecisionTreeClassifier(),\n",
    "    scoring=\"roc_auc\",\n",
    "    cv=cv,\n",
    "    search_space=search_function,\n",
    "    n_iter=5,\n",
    ")\n",
    "os.fit(X_train, y_train)\n",
    "\n",
    "print(\"\\nBest parameters: \", os.best_params_)\n",
    "print(\"Best score cv: \", os.best_score_)\n",
    "# Score uses the same scoring passed to the class\n",
    "print(\"Scoring fwith best parameters: \", os.score(X_test, y_test))\n"
   ]
  },
  {
   "cell_type": "code",
   "execution_count": 10,
   "metadata": {},
   "outputs": [
    {
     "name": "stderr",
     "output_type": "stream",
     "text": [
      "22-07-03 14:11 | INFO | Trials: 1, Best Score: 0.9547504833352572, Score 0.9547504833352572\n",
      "22-07-03 14:11 | INFO | Trials: 2, Best Score: 0.9547504833352572, Score 0.9512133093154495\n",
      "22-07-03 14:11 | INFO | Trials: 3, Best Score: 0.9547504833352572, Score 0.9218906276153346\n",
      "22-07-03 14:11 | INFO | Trials: 4, Best Score: 0.9547504833352572, Score 0.8923117084764837\n",
      "22-07-03 14:11 | INFO | Trials: 5, Best Score: 0.9547504833352572, Score 0.8898834646774991\n"
     ]
    },
    {
     "name": "stdout",
     "output_type": "stream",
     "text": [
      "\n",
      "Best parameters:  {'max_depth': 4, 'criterion': 'entropy'}\n",
      "Best score cv:  0.9547504833352572\n",
      "Scoring fwith best parameters:  0.9589212228101118\n"
     ]
    }
   ],
   "source": [
    "from instrumentum.model_tuning.wrapper_optuna import OptunaSearchCV\n",
    "from instrumentum.model_tuning._optuna_dispatchers import optuna_param_disp\n",
    "\n",
    "from sklearn.tree import DecisionTreeClassifier\n",
    "from sklearn.datasets import make_classification\n",
    "from sklearn.model_selection import RepeatedStratifiedKFold\n",
    "from sklearn.model_selection import train_test_split\n",
    "from sklearn.preprocessing import StandardScaler\n",
    "from sklearn.impute import SimpleImputer\n",
    "\n",
    "import logging\n",
    "\n",
    "X, y = make_classification(\n",
    "    n_samples=3000, n_features=10, n_informative=3, random_state=111\n",
    ")\n",
    "\n",
    "X_train, X_test, y_train, y_test = train_test_split(\n",
    "    X, y, test_size=0.33, random_state=42\n",
    ")\n",
    "\n",
    "# Without the preprocessing Simple Imputer, this would make the fit fail\n",
    "X_train[1, 3] = None\n",
    "\n",
    "search_function = optuna_param_disp[DecisionTreeClassifier.__name__]\n",
    "cv = RepeatedStratifiedKFold(n_splits=5, n_repeats=2)\n",
    "\n",
    "os = OptunaSearchCV(\n",
    "    estimator=DecisionTreeClassifier(),\n",
    "    scoring=\"roc_auc\",\n",
    "    cv=cv,\n",
    "    search_space=search_function,\n",
    "    n_iter=5,\n",
    "    # This parameter makes the best_estimator_ member a Pipieline\n",
    "    preprocessing=[\n",
    "        StandardScaler(),\n",
    "        SimpleImputer(missing_values=np.nan, strategy=\"mean\"),\n",
    "    ],\n",
    ")\n",
    "\n",
    "# Fit won't fail despite the fact there is a nan (SimpleImputer acting)\n",
    "os.fit(X_train, y_train)\n",
    "\n",
    "print(\"\\nBest parameters: \", os.best_params_)\n",
    "print(\"Best score cv: \", os.best_score_)\n",
    "# Score uses the same scoring passed to the class\n",
    "print(\"Scoring fwith best parameters: \", os.score(X_test, y_test))\n"
   ]
  },
  {
   "cell_type": "code",
   "execution_count": 7,
   "metadata": {},
   "outputs": [
    {
     "name": "stdout",
     "output_type": "stream",
     "text": [
      "The provided search spaces are: \n",
      "\n",
      "['XGBClassifier', 'LGBMClassifier', 'RandomForestClassifier', 'CatBoostClassifier', 'DecisionTreeClassifier', 'LogisticRegression', 'DecisionTreeRegressor']\n"
     ]
    }
   ],
   "source": [
    "# Some convinients search space already created. You can add your own (see next examples)\n",
    "from instrumentum.model_tuning._optuna_dispatchers import optuna_param_disp\n",
    "\n",
    "print(\"The provided search spaces are: \\n\")\n",
    "print([key for key in optuna_param_disp.keys()])\n"
   ]
  },
  {
   "cell_type": "code",
   "execution_count": 8,
   "metadata": {},
   "outputs": [
    {
     "name": "stderr",
     "output_type": "stream",
     "text": [
      "22-05-22 11:34 | INFO | Trials: 1, Best Score: 0.8791199817742967, Score 0.8791199817742967\n",
      "22-05-22 11:34 | INFO | Trials: 2, Best Score: 0.8797784704316944, Score 0.8797784704316944\n",
      "22-05-22 11:34 | INFO | Trials: 3, Best Score: 0.9500029865511614, Score 0.9500029865511614\n",
      "22-05-22 11:34 | INFO | Trials: 4, Best Score: 0.9505017406869891, Score 0.9505017406869891\n",
      "22-05-22 11:34 | INFO | Trials: 5, Best Score: 0.9505017406869891, Score 0.931279172306293\n"
     ]
    },
    {
     "name": "stdout",
     "output_type": "stream",
     "text": [
      "\n",
      "Best parameters:  {'max_depth': 3, 'criterion': 'entropy'}\n",
      "Best score cv:  0.9505017406869891\n",
      "Scoring with best parameters:  0.9495986837807825\n"
     ]
    }
   ],
   "source": [
    "# Example 2, same as before but using a custom search function\n",
    "\n",
    "import optuna\n",
    "\n",
    "# Custom search space\n",
    "def my_custom_search_space(trial: optuna.trial.Trial):\n",
    "    params = {\n",
    "        \"max_depth\": trial.suggest_int(\"max_depth\", 1, 20),\n",
    "        \"criterion\": trial.suggest_categorical(\"criterion\", [\"gini\", \"entropy\"]),\n",
    "    }\n",
    "    return params\n",
    "\n",
    "\n",
    "search_function = my_custom_search_space\n",
    "cv = RepeatedStratifiedKFold(n_splits=5, n_repeats=2)\n",
    "\n",
    "os = OptunaSearchCV(\n",
    "    estimator=DecisionTreeClassifier(),\n",
    "    scoring=\"roc_auc\",\n",
    "    cv=cv,\n",
    "    search_space=search_function,\n",
    "    n_iter=5,\n",
    ")\n",
    "os.fit(X_train, y_train)\n",
    "\n",
    "print(\"\\nBest parameters: \", os.best_params_)\n",
    "print(\"Best score cv: \", os.best_score_)\n",
    "# Score uses the same scoring passed to the class\n",
    "print(\"Scoring with best parameters: \", os.score(X_test, y_test))\n"
   ]
  },
  {
   "cell_type": "markdown",
   "metadata": {},
   "source": [
    "## Feature Selection - Stepwise <a id='stepwise'></a>"
   ]
  },
  {
   "cell_type": "code",
   "execution_count": 3,
   "metadata": {},
   "outputs": [
    {
     "name": "stderr",
     "output_type": "stream",
     "text": [
      "21-12-12 20:29 | INFO | Number of cores to be used: 8, total available: 8\n",
      "\n",
      "21-12-12 20:29 | INFO | Remaining columns to test: 10\n",
      "21-12-12 20:29 | INFO | Combinations to test: 55\n",
      "21-12-12 20:29 | INFO | Best score from combinations: 0.9464, global score 0\n",
      "21-12-12 20:29 | INFO | Best score comes from adding columns: ['x5' 'x6']\n",
      "21-12-12 20:29 | INFO | Best columns were added. All columns added so far ['x5' 'x6']\n",
      "\n",
      "21-12-12 20:29 | INFO | Remaining columns to test: 8\n",
      "21-12-12 20:29 | INFO | Combinations to test: 36\n",
      "21-12-12 20:29 | INFO | Best score from combinations: 0.9609, global score 0.9464\n",
      "21-12-12 20:29 | INFO | Best score comes from adding columns: ['x8' 'x9']\n",
      "21-12-12 20:29 | INFO | Best columns were added. All columns added so far ['x5' 'x6' 'x8' 'x9']\n",
      "\n",
      "21-12-12 20:29 | INFO | Remaining columns to test: 6\n",
      "21-12-12 20:29 | INFO | Combinations to test: 21\n",
      "21-12-12 20:29 | INFO | Best score from combinations: 0.9609, global score 0.9609\n",
      "21-12-12 20:29 | INFO | Best score comes from adding columns: ['x7']\n",
      "21-12-12 20:29 | INFO | Columns were not added as they do not improve the score. Finishing\n",
      "\n",
      "21-12-12 20:29 | INFO | Function fit executed in 2.4518368244171143 seconds\n"
     ]
    },
    {
     "name": "stdout",
     "output_type": "stream",
     "text": [
      "\n",
      "Forward Best Features:  ['x5' 'x6' 'x8' 'x9']\n",
      "\n",
      "     Score Columns Added\n",
      "0  0.9464      [x5, x6]\n",
      "1  0.9609      [x8, x9]\n",
      "\n",
      "Score calculated with best columns:  0.9453579804086113\n"
     ]
    }
   ],
   "source": [
    "# Stepwise test\n",
    "\n",
    "from instrumentum.feature_selection.stepwise import DynamicStepwise\n",
    "from instrumentum.model_tuning.wrapper_optuna import OptunaSearchCV\n",
    "from instrumentum.model_tuning._optuna_dispatchers import optuna_param_disp\n",
    "from sklearn.tree import DecisionTreeClassifier\n",
    "\n",
    "import pandas as pd\n",
    "from sklearn.datasets import make_classification\n",
    "\n",
    "import logging\n",
    "\n",
    "X, y = make_classification(\n",
    "    n_samples=3000, n_features=10, n_informative=3, random_state=111\n",
    ")\n",
    "# X = pd.DataFrame(X)\n",
    "# pd.Series(y)\n",
    "\n",
    "search_function = optuna_param_disp[DecisionTreeClassifier.__name__]\n",
    "\n",
    "os = OptunaSearchCV(\n",
    "    estimator=DecisionTreeClassifier(),\n",
    "    scoring=\"roc_auc\",\n",
    "    cv=5,\n",
    "    search_space=search_function,\n",
    "    n_iter=3,\n",
    "    verbose=logging.WARNING,\n",
    ")\n",
    "\n",
    "combs = 2\n",
    "rounding = 4\n",
    "\n",
    "stepw = DynamicStepwise(\n",
    "    estimator=os,\n",
    "    rounding=rounding,\n",
    "    n_combs=combs,\n",
    "    verbose=logging.INFO,\n",
    "    direction=\"forward\",\n",
    ")\n",
    "stepw.fit(X, y)\n",
    "print(\"\\nForward Best Features: \", stepw.get_feature_names_out())\n",
    "print(\n",
    "    \"\\n\", pd.DataFrame(stepw.seq_columns_selected_, columns=[\"Score\", \"Columns Added\"])\n",
    ")\n",
    "print(\n",
    "    \"\\nScore calculated with best columns: \", os.fit(stepw.transform(X), y).best_score_\n",
    ")\n"
   ]
  },
  {
   "cell_type": "code",
   "execution_count": 2,
   "metadata": {},
   "outputs": [
    {
     "name": "stderr",
     "output_type": "stream",
     "text": [
      "21-11-20 23:41 | INFO | Number of cores to be used: 8, total available: 8\n",
      "\n",
      "21-11-20 23:41 | INFO | Remaining columns to test: 10\n",
      "21-11-20 23:41 | INFO | Combinations to test: 55\n"
     ]
    },
    {
     "name": "stdout",
     "output_type": "stream",
     "text": [
      "\n",
      "Forward Best Features:  ['x1' 'x5' 'x6' 'x8']\n",
      "\n",
      "     Score Columns Added\n",
      "0  0.9472      [x5, x8]\n",
      "1  0.9602      [x1, x6]\n",
      "\n",
      "Score calculated with best columns:  0.9547848091907403\n"
     ]
    },
    {
     "name": "stderr",
     "output_type": "stream",
     "text": [
      "21-11-20 23:41 | INFO | Best score from combinations: 0.952, global score 0\n",
      "21-11-20 23:41 | INFO | Best score comes from adding columns: ['x5' 'x8']\n",
      "21-11-20 23:41 | INFO | Best columns were added. All columns added so far ['x5' 'x8']\n",
      "\n",
      "21-11-20 23:41 | INFO | Remaining columns to test: 8\n",
      "21-11-20 23:41 | INFO | Combinations to test: 36\n",
      "21-11-20 23:41 | INFO | Best score from combinations: 0.9597, global score 0.952\n",
      "21-11-20 23:41 | INFO | Best score comes from adding columns: ['x1' 'x4']\n",
      "21-11-20 23:41 | INFO | Best columns were added. All columns added so far ['x1' 'x4' 'x5' 'x8']\n",
      "\n",
      "21-11-20 23:41 | INFO | Remaining columns to test: 6\n",
      "21-11-20 23:41 | INFO | Combinations to test: 6\n",
      "21-11-20 23:41 | INFO | Best score from combinations: 0.9598, global score 0.9597\n",
      "21-11-20 23:41 | INFO | Best score comes from adding columns: ['x6']\n",
      "21-11-20 23:41 | INFO | Best columns were added. All columns added so far ['x1' 'x4' 'x5' 'x6' 'x8']\n",
      "\n",
      "21-11-20 23:41 | INFO | Max columns 5 reached. Finishing.\n",
      "\n",
      "21-11-20 23:41 | INFO | Function fit executed in 1.9533557891845703 seconds\n"
     ]
    },
    {
     "name": "stdout",
     "output_type": "stream",
     "text": [
      "\n",
      "Forward Best Features:  ['x1' 'x4' 'x5' 'x6' 'x8']\n",
      "\n",
      "     Score Columns Added\n",
      "0  0.9520      [x5, x8]\n",
      "1  0.9597      [x1, x4]\n",
      "2  0.9598          [x6]\n",
      "\n",
      "Score calculated with best columns:  0.9538380930403105\n"
     ]
    }
   ],
   "source": [
    "# Example 2 - max cols (continued from previous example)\n",
    "\n",
    "# In this case, I want up to 5 of the best features (could be less!)\n",
    "combs = 2\n",
    "rounding = 4\n",
    "\n",
    "stepw = DynamicStepwise(\n",
    "    estimator=os,\n",
    "    rounding=rounding,\n",
    "    n_combs=combs,\n",
    "    verbose=logging.WARNING,\n",
    "    direction=\"forward\",\n",
    "    max_cols=5,\n",
    ")\n",
    "stepw.fit(X, y)\n",
    "print(\"\\nForward Best Features: \", stepw.get_feature_names_out())\n",
    "print(\n",
    "    \"\\n\", pd.DataFrame(stepw.seq_columns_selected_, columns=[\"Score\", \"Columns Added\"])\n",
    ")\n",
    "print(\n",
    "    \"\\nScore calculated with best columns: \", os.fit(stepw.transform(X), y).best_score_\n",
    ")\n",
    "\n",
    "# In this case, I want exactly 5 features (note the combination of add_always and max_cols)\n",
    "combs = 2\n",
    "rounding = 4\n",
    "\n",
    "stepw = DynamicStepwise(\n",
    "    estimator=os,\n",
    "    rounding=rounding,\n",
    "    n_combs=combs,\n",
    "    verbose=logging.INFO,\n",
    "    direction=\"forward\",\n",
    "    max_cols=5,\n",
    "    add_always=True,\n",
    ")\n",
    "stepw.fit(X, y)\n",
    "print(\"\\nForward Best Features: \", stepw.get_feature_names_out())\n",
    "print(\n",
    "    \"\\n\", pd.DataFrame(stepw.seq_columns_selected_, columns=[\"Score\", \"Columns Added\"])\n",
    ")\n",
    "print(\n",
    "    \"\\nScore calculated with best columns: \", os.fit(stepw.transform(X), y).best_score_\n",
    ")\n"
   ]
  },
  {
   "cell_type": "markdown",
   "metadata": {},
   "source": [
    "## Feature Selection - Clustering <a id='clustering'></a>"
   ]
  },
  {
   "cell_type": "code",
   "execution_count": 2,
   "metadata": {},
   "outputs": [
    {
     "name": "stderr",
     "output_type": "stream",
     "text": [
      "22-05-22 11:18 | INFO | Cluster 1 - Evaluating columns: ['x0' 'x1' 'x2' 'x3']\n",
      "22-05-22 11:18 | INFO | Columns selected: ['x0']\n",
      "\n",
      "22-05-22 11:18 | INFO | Cluster 2 - Evaluating columns: ['x4' 'x5' 'x6' 'x7' 'x8' 'x9']\n",
      "22-05-22 11:18 | INFO | Columns selected: ['x4' 'x9']\n",
      "\n"
     ]
    },
    {
     "name": "stdout",
     "output_type": "stream",
     "text": [
      "\n",
      "These are the best columns after removal: \n",
      "['x0' 'x4' 'x9']\n",
      "\n",
      "Number of elements grouped by clusters before reduction: \n",
      "Counter({4: 1, 6: 1})\n",
      "\n",
      "Number of elements grouped by clusters after reduction: \n",
      "Counter({1: 1, 2: 1})\n"
     ]
    }
   ],
   "source": [
    "from collections import Counter\n",
    "\n",
    "from sklearn.datasets import make_classification\n",
    "from sklearn.tree import DecisionTreeClassifier\n",
    "\n",
    "from instrumentum.feature_selection.correlation import ClusterSelection \n",
    "from instrumentum.feature_selection.stepwise import DynamicStepwise \n",
    "from instrumentum.model_tuning._optuna_dispatchers import optuna_param_disp\n",
    "from instrumentum.model_tuning.wrapper_optuna import OptunaSearchCV \n",
    "\n",
    "import logging \n",
    "import seaborn as sns\n",
    "\n",
    "sns.set_style('ticks')\n",
    "\n",
    "search_space = optuna_param_disp[DecisionTreeClassifier.__name__]\n",
    "os = OptunaSearchCV(\n",
    "    estimator=DecisionTreeClassifier(),\n",
    "    scoring=\"roc_auc\",\n",
    "    search_space=search_space,\n",
    "    n_iter=5,\n",
    "    verbose=logging.WARNING,\n",
    "    random_state=123,\n",
    ")\n",
    "\n",
    "stepw = DynamicStepwise(\n",
    "    estimator=os,\n",
    "    rounding=4,\n",
    "    n_combs=2,\n",
    "    verbose=logging.WARNING,\n",
    "    direction=\"forward\",\n",
    "    max_cols=2,\n",
    ")\n",
    "\n",
    "\n",
    "X, y = make_classification(\n",
    "    n_samples=6000,\n",
    "    #n_redundant=8,\n",
    "    n_features=10,\n",
    "    n_informative=2,\n",
    "    random_state=111,\n",
    ")\n",
    "\n",
    "threshold = 0.8\n",
    "clsl = ClusterSelection(t=2, criterion=\"maxclust\", meta_estimator=stepw)\n",
    "clsl.fit(X, y)\n",
    "\n",
    "print(\"\\nThese are the best columns after removal: \")\n",
    "print(clsl.get_feature_names_out())\n",
    "\n",
    "print(\"\\nNumber of elements grouped by clusters before reduction: \")\n",
    "print(Counter([len(v) for k, v in clsl.clusters_in_.items()]))\n",
    "\n",
    "print(\"\\nNumber of elements grouped by clusters after reduction: \")\n",
    "print(Counter([len(v) for k, v in clsl.clusters_out_.items()]))"
   ]
  },
  {
   "cell_type": "code",
   "execution_count": 3,
   "metadata": {},
   "outputs": [
    {
     "name": "stderr",
     "output_type": "stream",
     "text": [
      "22-05-22 11:20 | INFO | Cluster 1 - Evaluating columns: ['x3' 'x6']\n",
      "22-05-22 11:20 | INFO | Columns selected: ['x3' 'x6']\n",
      "\n",
      "22-05-22 11:20 | INFO | Cluster 2 - Evaluating columns: ['x0' 'x1' 'x2' 'x4' 'x5' 'x7' 'x8' 'x9']\n",
      "22-05-22 11:20 | INFO | Columns selected: ['x0' 'x1']\n",
      "\n"
     ]
    },
    {
     "name": "stdout",
     "output_type": "stream",
     "text": [
      "\n",
      "These are the best columns after removal: \n",
      "['x0' 'x1' 'x3' 'x6']\n",
      "\n",
      "Number of elements grouped by clusters before reduction: \n",
      "Counter({2: 1, 8: 1})\n",
      "\n",
      "Number of elements grouped by clusters after reduction: \n",
      "Counter({2: 2})\n"
     ]
    }
   ],
   "source": [
    "import numpy as np\n",
    "\n",
    "from sklearn.metrics import roc_auc_score\n",
    "from lightgbm import LGBMClassifier\n",
    "from sklearn.model_selection import train_test_split\n",
    "\n",
    "from collections import Counter\n",
    "\n",
    "from sklearn.datasets import make_classification\n",
    "from sklearn.tree import DecisionTreeClassifier\n",
    "\n",
    "from instrumentum.feature_selection.correlation import ClusterSelection \n",
    "from instrumentum.feature_selection.stepwise import DynamicStepwise \n",
    "from instrumentum.model_tuning._optuna_dispatchers import optuna_param_disp\n",
    "from instrumentum.model_tuning.wrapper_optuna import OptunaSearchCV \n",
    "\n",
    "import logging \n",
    "\n",
    "\n",
    "search_space = optuna_param_disp[DecisionTreeClassifier.__name__]\n",
    "os = OptunaSearchCV(\n",
    "    estimator=DecisionTreeClassifier(),\n",
    "    scoring=\"roc_auc\",\n",
    "    search_space=search_space,\n",
    "    n_iter=5,\n",
    "    verbose=logging.WARNING,\n",
    "    random_state=123,\n",
    ")\n",
    "\n",
    "stepw = DynamicStepwise(\n",
    "    estimator=os,\n",
    "    rounding=2,\n",
    "    n_combs=10,\n",
    "    verbose=logging.WARNING,\n",
    "    direction=\"forward\",\n",
    "    max_cols=2,\n",
    ")\n",
    "\n",
    "def score_me(X,y):\n",
    "    search_space = optuna_param_disp[LGBMClassifier.__name__]\n",
    "    os = OptunaSearchCV(\n",
    "        estimator=LGBMClassifier(),\n",
    "        scoring=\"roc_auc\",\n",
    "        search_space=search_space,\n",
    "        n_iter=50,\n",
    "        verbose=logging.WARNING,\n",
    "        random_state=123,\n",
    "    )\n",
    "   \n",
    "    X_train, X_test, y_train, _ = train_test_split(\n",
    "        X, y, test_size=0.25, random_state=42, stratify=y\n",
    "    )\n",
    "\n",
    "    return os.fit(X_train.reshape(-1,1), y_train).predict(X_test.reshape(-1,1))\n",
    "\n",
    "def create_corr(X, y):\n",
    "\n",
    "    n = X.shape[1]\n",
    "    correl = np.ones((n, n), dtype=float)\n",
    "   \n",
    "    scores = {}\n",
    "\n",
    "    for i in range(n - 1):\n",
    "        for j in range(i + 1, n):\n",
    "            \n",
    "            if i not in scores:\n",
    "                scores[i] = score_me(X[:,i], y)\n",
    "           \n",
    "            if j not in scores:\n",
    "                scores[j] = score_me(X[:,j], y)\n",
    "\n",
    "\n",
    "            c_i = np.isclose(np.ptp(scores[i], axis=0),0)\n",
    "            c_j = np.isclose(np.ptp(scores[j], axis=0),0)\n",
    "            \n",
    "            r = 0.5\n",
    "            if(not c_j):\n",
    "                r = roc_auc_score(scores[j], scores[i])\n",
    "            elif(not c_i):\n",
    "                r = roc_auc_score(scores[i], scores[j])\n",
    "\n",
    "            correl[i, j] = correl[j, i] = r\n",
    "\n",
    "    return abs(correl - 0.5) * 2\n",
    "\n",
    "\n",
    "X, y = make_classification(\n",
    "    n_samples=2000,\n",
    "    n_redundant=8,\n",
    "    n_features=10,\n",
    "    n_informative=2,\n",
    "    random_state=111,\n",
    ")\n",
    "\n",
    "clsl = ClusterSelection(t=2, criterion=\"maxclust\", meta_estimator=stepw, make_matrix=create_corr)\n",
    "clsl.fit(X, y)\n",
    "\n",
    "print(\"\\nThese are the best columns after removal: \")\n",
    "print(clsl.get_feature_names_out())\n",
    "\n",
    "print(\"\\nNumber of elements grouped by clusters before reduction: \")\n",
    "print(Counter([len(v) for k, v in clsl.clusters_in_.items()]))\n",
    "\n",
    "print(\"\\nNumber of elements grouped by clusters after reduction: \")\n",
    "print(Counter([len(v) for k, v in clsl.clusters_out_.items()]))\n"
   ]
  },
  {
   "cell_type": "code",
   "execution_count": 4,
   "metadata": {},
   "outputs": [
    {
     "data": {
      "image/png": "[encoded data removed]",
      "text/plain": [
       "<Figure size 864x720 with 2 Axes>"
      ]
     },
     "metadata": {},
     "output_type": "display_data"
    },
    {
     "data": {
      "image/png": "[encoded data removed]",
      "text/plain": [
       "<Figure size 864x360 with 1 Axes>"
      ]
     },
     "metadata": {},
     "output_type": "display_data"
    },
    {
     "data": {
      "image/png": "[encoded data removed]",
      "text/plain": [
       "<Figure size 720x576 with 1 Axes>"
      ]
     },
     "metadata": {},
     "output_type": "display_data"
    }
   ],
   "source": [
    "# this section graphs some of the results. Previous cell needs to be run before!\n",
    "\n",
    "import seaborn as sns\n",
    "import numpy as np\n",
    "\n",
    "import matplotlib.pyplot as plt\n",
    "from scipy.cluster.hierarchy import linkage, dendrogram, fcluster\n",
    "from scipy.spatial.distance import squareform\n",
    "\n",
    "# function taken from https://joernhees.de/blog/2015/08/26/scipy-hierarchical-clustering-and-dendrogram-tutorial/\n",
    "def fancy_dendrogram(*args, **kwargs):\n",
    "    max_d = kwargs.pop('max_d', None)\n",
    "    if max_d and 'color_threshold' not in kwargs:\n",
    "        kwargs['color_threshold'] = max_d\n",
    "    annotate_above = kwargs.pop('annotate_above', 0)\n",
    "\n",
    "    ddata = dendrogram(*args, **kwargs)\n",
    "\n",
    "    if not kwargs.get('no_plot', False):\n",
    "        plt.title('Hierarchical Clustering Dendrogram')\n",
    "        plt.xlabel('Index')\n",
    "        plt.ylabel('distance')\n",
    "        for i, d, c in zip(ddata['icoord'], ddata['dcoord'], ddata['color_list']):\n",
    "            x = 0.5 * sum(i[1:3])\n",
    "            y = d[1]\n",
    "            if y > annotate_above:\n",
    "                plt.plot(x, y, 'o', c=c)\n",
    "                plt.annotate(\"%.3g\" % y, (x, y), xytext=(0, -5),\n",
    "                             textcoords='offset points',\n",
    "                             va='top', ha='center')\n",
    "        if max_d:\n",
    "            plt.axhline(y=max_d, c='k')\n",
    "    return ddata\n",
    "\n",
    "X_corr = np.corrcoef(X, rowvar=False)  # spearmanr(X)[0]\n",
    "X_corr = np.fabs(X_corr).round(2)\n",
    "\n",
    "plt.figure(figsize=(12, 10))\n",
    "sns.heatmap(X_corr, cmap=\"RdBu\", annot=True, annot_kws={\"size\": 7}, vmin=-1, vmax=1)\n",
    "\n",
    "plt.figure(figsize=(12, 5))\n",
    "dis = 1 - X_corr\n",
    "np.fill_diagonal(dis, 0, wrap=False)\n",
    "dis = np.maximum(dis, dis.transpose())\n",
    "Z = linkage(squareform(dis), \"complete\")\n",
    "clusters = fcluster(Z, threshold, criterion=\"distance\")\n",
    "\n",
    "fancy_dendrogram(\n",
    "    Z,\n",
    "    p=12,\n",
    "    leaf_rotation=90.,\n",
    "    leaf_font_size=12.,\n",
    "    annotate_above=10,  # useful in small plots so annotations don't overlap\n",
    "    max_d=threshold\n",
    ")\n",
    "plt.show()\n",
    "\n",
    "plt.figure(figsize=(10, 8))\n",
    "plt.scatter(X_corr[:,0], X_corr[:,1], c=clusters, cmap='prism')  # plot points with cluster dependent colors\n",
    "plt.show()"
   ]
  }
 ],
 "metadata": {
  "kernelspec": {
   "display_name": "Python 3.8.1 ('instrumentum-X6s00uqR-py3.8')",
   "language": "python",
   "name": "python3"
  },
  "language_info": {
   "codemirror_mode": {
    "name": "ipython",
    "version": 3
   },
   "file_extension": ".py",
   "mimetype": "text/x-python",
   "name": "python",
   "nbconvert_exporter": "python",
   "pygments_lexer": "ipython3",
   "version": "3.8.9"
  },
  "orig_nbformat": 2,
  "vscode": {
   "interpreter": {
    "hash": "c59df6b11eadaf70c1af0ba40ff09418475164950e0171476eddebdc68577a65"
   }
  }
 },
 "nbformat": 4,
 "nbformat_minor": 2
}
