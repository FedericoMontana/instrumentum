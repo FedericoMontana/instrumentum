{
 "cells": [
  {
   "cell_type": "markdown",
   "source": [
    "# Example usage\n",
    "\n",
    "To use `instrumentum` in a project:"
   ],
   "metadata": {}
  },
  {
   "cell_type": "code",
   "execution_count": 1,
   "source": [
    "import instrumentum\n",
    "\n",
    "print(instrumentum.__version__)"
   ],
   "outputs": [
    {
     "output_type": "stream",
     "name": "stdout",
     "text": [
      "0.2.0\n"
     ]
    }
   ],
   "metadata": {}
  },
  {
   "cell_type": "code",
   "execution_count": 2,
   "metadata": {},
   "outputs": [
    {
     "output_type": "stream",
     "name": "stdout",
     "text": [
      "Total unique keys that with a possitive value:  2\nTotal records of ckeys that with a possitive value:  13\nTotal unique keys with no possitive value:  2\nTotal records of customers with no possitive values:  10\n"
     ]
    }
   ],
   "source": [
    "import instrumentum.time_series as ts\n",
    "import pandas as pd\n",
    "\n",
    "data_file = \"./sample_data/time_series.csv\"\n",
    "data_df = pd.read_csv(data_file)\n",
    "\n",
    "ts.ts_print(data_df, col_target=\"ACQUIRED\", col_key=\"CUSTOMER_KEY\")"
   ]
  },
  {
   "cell_type": "code",
   "execution_count": 146,
   "metadata": {
    "tags": []
   },
   "outputs": [
    {
     "output_type": "stream",
     "name": "stdout",
     "text": [
      "Number of combinations:  1\n",
      "Training shape:  (29, 13)\n",
      "Label distribution: \n",
      " 1    15\n",
      "0    14\n",
      "Name: target, dtype: int64\n",
      "\n",
      "Combinations to test: 13\n",
      "Best score: 0.86, previous 0, columns added: ['a']\n",
      "Best columns so far: ['a']\n",
      "\n",
      "Combinations to test: 12\n",
      "Best score: 0.933, previous 0.86, columns added: ['d']\n",
      "Best columns so far: ['a', 'd']\n",
      "\n",
      "Combinations to test: 11\n",
      "\n",
      "Best score: 0.933, columns final: ['a', 'd']\n"
     ]
    }
   ],
   "source": [
    "import instrumentum.features.stepwise as sw\n",
    "import pandas as pd\n",
    "\n",
    "from sklearn.model_selection import cross_val_score\n",
    "from sklearn.model_selection import StratifiedKFold\n",
    "from sklearn.tree import DecisionTreeClassifier\n",
    "\n",
    "data_file = \"./sample_data/simple.csv\"\n",
    "data_df = pd.read_csv(data_file)\n",
    "\n",
    "\n",
    "def myfunc(X_train, y_train):\n",
    "\n",
    "    model = DecisionTreeClassifier()\n",
    "    cv = StratifiedKFold(n_splits=5, shuffle=True, random_state=0)\n",
    "    return cross_val_score(model, X_train, y_train, scoring='accuracy', cv=cv).mean()\n",
    "      \n",
    "sw.forward_stepwise(data_df.drop(\"target\",axis=1), data_df['target'], n_combs=1, rounding=3, _scorer=myfunc)\n",
    "#ts.ts_print(data_df, col_target=\"ACQUIRED\", col_key=\"CUSTOMER_KEY\")"
   ]
  },
  {
   "cell_type": "code",
   "execution_count": null,
   "metadata": {},
   "outputs": [],
   "source": []
  },
  {
   "cell_type": "code",
   "execution_count": null,
   "metadata": {},
   "outputs": [],
   "source": []
  }
 ],
 "metadata": {
  "kernelspec": {
   "name": "python3",
   "display_name": "Python 3.8.1 64-bit ('instrumentum-X6s00uqR-py3.8': venv)",
   "metadata": {
    "interpreter": {
     "hash": "1f443f706969d128922edc6f200c7b7366e62043f716a0044140bf1a118ed8c0"
    }
   }
  },
  "language_info": {
   "codemirror_mode": {
    "name": "ipython",
    "version": 3
   },
   "file_extension": ".py",
   "mimetype": "text/x-python",
   "name": "python",
   "nbconvert_exporter": "python",
   "pygments_lexer": "ipython3",
   "version": "3.8.1"
  }
 },
 "nbformat": 4,
 "nbformat_minor": 4
}