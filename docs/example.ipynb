{
 "cells": [
  {
   "cell_type": "markdown",
   "source": [
    "# Example usage\n",
    "\n",
    "To use `instrumentum` in a project:"
   ],
   "metadata": {}
  },
  {
   "cell_type": "code",
   "execution_count": 5,
   "source": [
    "import instrumentum\n",
    "\n",
    "print(instrumentum.__version__)"
   ],
   "outputs": [
    {
     "output_type": "stream",
     "name": "stdout",
     "text": [
      "0.2.0\n"
     ]
    }
   ],
   "metadata": {}
  },
  {
   "cell_type": "code",
   "execution_count": 2,
   "metadata": {},
   "outputs": [
    {
     "output_type": "stream",
     "name": "stdout",
     "text": [
      "Total unique keys that with a possitive value:  2\nTotal records of ckeys that with a possitive value:  13\nTotal unique keys with no possitive value:  2\nTotal records of customers with no possitive values:  10\n"
     ]
    }
   ],
   "source": [
    "import instrumentum.time_series as ts\n",
    "import pandas as pd\n",
    "\n",
    "data_file = \"./sample_data/time_series.csv\"\n",
    "data_df = pd.read_csv(data_file)\n",
    "\n",
    "ts.ts_print(data_df, col_target=\"ACQUIRED\", col_key=\"CUSTOMER_KEY\")"
   ]
  },
  {
   "cell_type": "code",
   "execution_count": 4,
   "metadata": {
    "tags": []
   },
   "outputs": [],
   "source": [
    "import instrumentum.features.stepwise as sw\n",
    "import pandas as pd\n",
    "\n",
    "from sklearn.model_selection import cross_val_score\n",
    "from sklearn.model_selection import StratifiedKFold, RepeatedStratifiedKFold\n",
    "from sklearn.tree import DecisionTreeClassifier\n",
    "import logging\n",
    "\n",
    "from instrumentum.utils.scorer_wrappers import optimizer_optuna_rf as rf, optimizer_optuna_xgb as xgb_\n",
    "\n",
    "data_file = \"./sample_data/simple.csv\"\n",
    "data_df = pd.read_csv(data_file)\n",
    "\n",
    "data_df.loc[data_df['target'] == -1, 'target'] = 0\n",
    "\n",
    "def myfunc2(X_train, y_train):\n",
    "    ret, _ = xgb_(X_train, y_train,n_trials=12, n_repeats=1, verbose=False)\n",
    "    return ret\n",
    "\n",
    "\n",
    "def myfunc(X_train, y_train):\n",
    "\n",
    "    model = DecisionTreeClassifier(random_state=0)\n",
    "    cv = RepeatedStratifiedKFold(n_splits=5, n_repeats=2)\n",
    "    return cross_val_score(model, X_train, y_train, scoring='roc_auc', cv=cv).mean()\n",
    "\n",
    "#logging.getLogger(\"\")\n",
    "ret = sw.forward_stepwise(data_df.drop(\"target\",axis=1)[['a', 'b', 'c', 'd', 'e', 'f']], data_df['target'], n_combs=2, rounding=4, add_always=True, n_jobs=1, verbose=logging.WARNING)\n"
   ]
  },
  {
   "cell_type": "code",
   "execution_count": 68,
   "metadata": {},
   "outputs": [
    {
     "output_type": "stream",
     "name": "stderr",
     "text": [
      "21-10-24 23:20 | INFO | Processing: first_name\n",
      "21-10-24 23:20 | INFO | False\n",
      "21-10-24 23:20 | INFO | 0.2\n",
      "21-10-24 23:20 | INFO | Processing: last_name\n",
      "21-10-24 23:20 | INFO | False\n",
      "21-10-24 23:20 | INFO | 0.0\n",
      "21-10-24 23:20 | INFO | Processing: age\n",
      "21-10-24 23:20 | INFO | -- Numeric and not missing data. Keeping as is\n",
      "21-10-24 23:20 | INFO | Processing: sex\n",
      "21-10-24 23:20 | INFO | False\n",
      "21-10-24 23:20 | INFO | 0.2\n",
      "21-10-24 23:20 | INFO | Processing: Test1_Score\n",
      "21-10-24 23:20 | INFO | False\n",
      "21-10-24 23:20 | INFO | 0.0\n",
      "21-10-24 23:20 | INFO | Processing: Test2_Score\n",
      "  first_name  last_name  age  sex Test1_Score  Test2_Score\n",
      "0      Jason 2018-03-10   22    m       False         25.0\n",
      "1        NaN 2018-03-10    2  NaN        True          NaN\n",
      "2       Tina 2018-03-10    2    f          la          3.0\n",
      "3       Jake 2018-03-10   24    m        True         25.0\n",
      "4        Amy 2018-03-10   25    f        True          0.0\n",
      "  first_name  last_name  age  sex Test1_Score  Test2_Score  \\\n",
      "0      Jason 2018-03-10   22    m       False         25.0   \n",
      "1        NaN 2018-03-10    2  NaN        True          NaN   \n",
      "2       Tina 2018-03-10    2    f          la          3.0   \n",
      "3       Jake 2018-03-10   24    m        True         25.0   \n",
      "4        Amy 2018-03-10   25    f        True          0.0   \n",
      "\n",
      "   Test2_Score__imp_mean  Test2_Score__was_nan  \n",
      "0                  25.00                     1  \n",
      "1                  13.25                     0  \n",
      "2                   3.00                     1  \n",
      "3                  25.00                     1  \n",
      "4                   0.00                     1  \n"
     ]
    }
   ],
   "source": [
    "import pandas as pd\n",
    "import numpy as np\n",
    "from instrumentum.feature_preprocess import to_numeric\n",
    "from sklearn.impute import SimpleImputer\n",
    "import logging\n",
    "data_file = \"/Users/federico/codes/instrumentum/docs/sample_data/simple.csv\"\n",
    "data_df = pd.read_csv(data_file)\n",
    "\n",
    "raw_data = {'first_name': ['Jason', np.nan, 'Tina', 'Jake', 'Amy'], \n",
    "        'last_name': [pd.Timestamp('20180310'), pd.Timestamp('20180310'), pd.Timestamp('20180310'), pd.Timestamp('20180310'), pd.Timestamp('20180310')], \n",
    "        'age': [22, 2, 2, 24, 25], \n",
    "        'sex': ['m', np.nan, 'f', 'm', 'f'], \n",
    "        'Test1_Score': [False, True, \"la\", True, True],\n",
    "        'Test2_Score': [25, np.nan, 3, 25, 0]}\n",
    "data_df = pd.DataFrame(raw_data, columns = ['first_name', 'last_name', 'age', 'sex', 'Test1_Score', 'Test2_Score'])\n",
    "\n",
    "\n",
    "logger = logging.getLogger(__name__)\n",
    "\n",
    "def _rescue_numeric_missing_data(df, col, scorer, col_y):\n",
    "\n",
    "    print(df)\n",
    "    \n",
    "\n",
    "    check_significance = scorer is not None and col_y is not None\n",
    "\n",
    "    strategies = {}\n",
    "\n",
    "    col_flag_nans = df[col].notnull().astype('int')\n",
    "\n",
    "    strategies['mean'] = pd.concat({col + \"__imp_mean\": df[col].fillna(df[col].mean()), \\\n",
    "        col + \"__was_nan\" : col_flag_nans},axis=1)\n",
    "\n",
    "    strategies['median'] = pd.concat({col + \"__imp_median\": df[col].fillna(df[col].mean()), \\\n",
    "        col + \"__was_nan\" : col_flag_nans},axis=1)\n",
    "    \n",
    "    #pd.concat([df[col].fillna(df[col].mean()), col_flag_nans], axis=1)#, [col + \"_imp_mean\", col + \"was_nan\"])\n",
    "    #strategies['median'] = pd.DataFrame([df[col].fillna(df[col].median()), col_flag_nans], [col + \"_imp_mean\", col + \"was_nan\"])\n",
    "    # df['mean'] =  df[col].fillna(df[col].mean())\n",
    "    # df['median'] =  df[col].fillna(df[col].median())\n",
    "    # imputer = SimpleImputer(strategy='mean')\n",
    "    # df['mean'] = imputer.fit_transform(df[col].values.reshape(-1,1))[:,0]\n",
    "\n",
    "    # imputer = SimpleImputer(strategy='median')\n",
    "    # df['median'] = imputer.fit_transform(df[col].values.reshape(-1,1))[:,0]\n",
    "\n",
    "    # imputer = SimpleImputer(strategy='constant')\n",
    "    # df['constant'] = imputer.fit_transform(df[col].values.reshape(-1,1))[:,0]\n",
    "\n",
    "    # pd.concat([df1, df4.reindex(df1.index)], axis=1)\n",
    "    # df['mean'] = df[col].isnull().astype('int')\n",
    "    # print(df)\n",
    "\n",
    "\n",
    "    #print(strategies['mean'])\n",
    "\n",
    "    #print(strategies['mean'])\n",
    "    print(df.join(strategies['mean'].reindex(df.index)))\n",
    "\n",
    "\n",
    "def trasform_to_numeric(df, verbose=logging.INFO, scorer=None, col_y=None):\n",
    "    \n",
    "    # if bool(scorer) == bool(col_y):\n",
    "    #     raise \n",
    "\n",
    "    MISS_TOO_MUCH = 0.98\n",
    "    logger.setLevel(verbose)\n",
    "    \n",
    "    removed_cols = []\n",
    "\n",
    "    for col in df.columns:\n",
    "        logger.info(\"Processing: %s\", col)\n",
    "        \n",
    "        is_numeric = pd.api.types.is_numeric_dtype(df[col])\n",
    "        perc_miss = df[col].isnull().mean() \n",
    "\n",
    "        if(is_numeric and perc_miss==0):\n",
    "            logger.info(\"-- Numeric and not missing data. Keeping as is\")\n",
    "            continue\n",
    "\n",
    "        if(perc_miss>MISS_TOO_MUCH):\n",
    "            logger.info(\"-- Missing %s of the data (more than threshold of %s). Removing\\n\", perc_miss, MISS_TOO_MUCH)\n",
    "            removed_cols += col\n",
    "            continue\n",
    "\n",
    "        if(is_numeric): # Only here if misses data\n",
    "            _rescue_numeric_missing_data(df, col, scorer, col)\n",
    "            continue\n",
    "\n",
    "        logger.info(is_numeric)\n",
    "        logger.info(perc_miss)\n",
    "\n",
    "trasform_to_numeric(data_df)"
   ]
  },
  {
   "cell_type": "code",
   "execution_count": 22,
   "metadata": {},
   "outputs": [],
   "source": [
    "from sklearn.ensemble import RandomForestClassifier\n",
    "from catboost import CatBoostClassifier\n",
    "from instrumentum.scorers.optuna_wrappers import wrapper_opt_lgbm\n",
    "import pandas as pd\n",
    "\n",
    "data_file = \"/Users/federico/codes/instrumentum/docs/sample_data/simple.csv\"\n",
    "data_df = pd.read_csv(data_file)\n",
    "data_df['target'] = data_df['target'].replace([-1],0)\n",
    "\n",
    "X = data_df.drop(\"target\",axis=1) \n",
    "y = data_df['target']\n",
    "\n",
    "#CatBoostClassifier"
   ]
  }
 ],
 "metadata": {
  "kernelspec": {
   "name": "python3",
   "display_name": "Python 3.8.1 64-bit ('instrumentum-X6s00uqR-py3.8': venv)",
   "metadata": {
    "interpreter": {
     "hash": "1f443f706969d128922edc6f200c7b7366e62043f716a0044140bf1a118ed8c0"
    }
   }
  },
  "language_info": {
   "codemirror_mode": {
    "name": "ipython",
    "version": 3
   },
   "file_extension": ".py",
   "mimetype": "text/x-python",
   "name": "python",
   "nbconvert_exporter": "python",
   "pygments_lexer": "ipython3",
   "version": "3.8.1"
  }
 },
 "nbformat": 4,
 "nbformat_minor": 4
}