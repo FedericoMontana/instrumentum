{
 "cells": [
  {
   "cell_type": "markdown",
   "source": [
    "# Example usage\n",
    "\n",
    "To use `instrumentum` in a project:"
   ],
   "metadata": {}
  },
  {
   "cell_type": "code",
   "execution_count": 1,
   "source": [
    "import instrumentum\n",
    "\n",
    "print(instrumentum.__version__)"
   ],
   "outputs": [
    {
     "output_type": "stream",
     "name": "stdout",
     "text": [
      "0.2.0\n"
     ]
    }
   ],
   "metadata": {}
  },
  {
   "cell_type": "code",
   "execution_count": 2,
   "metadata": {},
   "outputs": [
    {
     "output_type": "stream",
     "name": "stdout",
     "text": [
      "Total unique keys that with a possitive value:  2\nTotal records of ckeys that with a possitive value:  13\nTotal unique keys with no possitive value:  2\nTotal records of customers with no possitive values:  10\n"
     ]
    }
   ],
   "source": [
    "import instrumentum.time_series as ts\n",
    "import pandas as pd\n",
    "\n",
    "data_file = \"./sample_data/time_series.csv\"\n",
    "data_df = pd.read_csv(data_file)\n",
    "\n",
    "ts.ts_print(data_df, col_target=\"ACQUIRED\", col_key=\"CUSTOMER_KEY\")"
   ]
  },
  {
   "cell_type": "code",
   "execution_count": 72,
   "metadata": {
    "tags": []
   },
   "outputs": [
    {
     "output_type": "stream",
     "name": "stderr",
     "text": [
      "21-10-10 18:01 | INFO | Number of cores to be used: 8, total cores: 8\n",
      "\n",
      "21-10-10 18:01 | INFO | Remaining columns to test: 6\n",
      "21-10-10 18:01 | INFO | Combinations to test: 6\n",
      "1    5003\n",
      "0    4996\n",
      "Name: target, dtype: int64\n",
      "21-10-10 18:01 | DEBUG | Score 0.6757 for this combination: ['d']\n",
      "21-10-10 18:01 | DEBUG | Score 0.8614 for this combination: ['a']\n",
      "21-10-10 18:01 | DEBUG | Score 0.7699 for this combination: ['b']\n",
      "21-10-10 18:01 | DEBUG | Score 0.6324 for this combination: ['f']\n",
      "21-10-10 18:01 | DEBUG | Score 0.7214 for this combination: ['c']\n",
      "21-10-10 18:01 | DEBUG | Score 0.6503 for this combination: ['e']\n",
      "21-10-10 18:01 | INFO | Best score from combinations: 0.8614, global score 0\n",
      "21-10-10 18:01 | INFO | Best score comes from columns: ['a']\n",
      "21-10-10 18:01 | INFO | Best columns were added. All columns added so far ['a']\n",
      "\n",
      "21-10-10 18:01 | INFO | Remaining columns to test: 5\n",
      "21-10-10 18:01 | INFO | Combinations to test: 5\n",
      "21-10-10 18:02 | DEBUG | Score 0.8386 for this combination: ['f']\n",
      "21-10-10 18:02 | DEBUG | Score 0.8667 for this combination: ['c']\n",
      "21-10-10 18:02 | DEBUG | Score 0.8423 for this combination: ['e']\n",
      "21-10-10 18:02 | DEBUG | Score 0.8566 for this combination: ['d']\n",
      "21-10-10 18:02 | DEBUG | Score 0.8755 for this combination: ['b']\n",
      "21-10-10 18:02 | INFO | Best score from combinations: 0.8755, global score 0.8614\n",
      "21-10-10 18:02 | INFO | Best score comes from columns: ['b']\n",
      "21-10-10 18:02 | INFO | Best columns were added. All columns added so far ['a', 'b']\n",
      "\n",
      "21-10-10 18:02 | INFO | Remaining columns to test: 4\n",
      "21-10-10 18:02 | INFO | Combinations to test: 4\n",
      "21-10-10 18:02 | DEBUG | Score 0.8934 for this combination: ['e']\n",
      "21-10-10 18:02 | DEBUG | Score 0.8944 for this combination: ['f']\n",
      "21-10-10 18:02 | DEBUG | Score 0.8997 for this combination: ['d']\n",
      "21-10-10 18:02 | DEBUG | Score 0.9079 for this combination: ['c']\n",
      "21-10-10 18:02 | INFO | Best score from combinations: 0.9079, global score 0.8755\n",
      "21-10-10 18:02 | INFO | Best score comes from columns: ['c']\n",
      "21-10-10 18:02 | INFO | Best columns were added. All columns added so far ['a', 'b', 'c']\n",
      "\n",
      "21-10-10 18:02 | INFO | Remaining columns to test: 3\n",
      "21-10-10 18:02 | INFO | Combinations to test: 3\n",
      "21-10-10 18:02 | DEBUG | Score 0.9141 for this combination: ['f']\n",
      "21-10-10 18:02 | DEBUG | Score 0.9156 for this combination: ['e']\n",
      "21-10-10 18:02 | DEBUG | Score 0.9192 for this combination: ['d']\n",
      "21-10-10 18:02 | INFO | Best score from combinations: 0.9192, global score 0.9079\n",
      "21-10-10 18:02 | INFO | Best score comes from columns: ['d']\n",
      "21-10-10 18:02 | INFO | Best columns were added. All columns added so far ['a', 'b', 'c', 'd']\n",
      "\n",
      "21-10-10 18:02 | INFO | Remaining columns to test: 2\n",
      "21-10-10 18:02 | INFO | Combinations to test: 2\n"
     ]
    },
    {
     "output_type": "error",
     "ename": "KeyboardInterrupt",
     "evalue": "",
     "traceback": [
      "\u001b[0;31m---------------------------------------------------------------------------\u001b[0m",
      "\u001b[0;31mKeyboardInterrupt\u001b[0m                         Traceback (most recent call last)",
      "\u001b[0;32m/var/folders/3w/bsb667zn42gdhbqq3z8ptmgw0000gn/T/ipykernel_22594/4065561508.py\u001b[0m in \u001b[0;36m<module>\u001b[0;34m\u001b[0m\n\u001b[1;32m     26\u001b[0m \u001b[0;34m\u001b[0m\u001b[0m\n\u001b[1;32m     27\u001b[0m \u001b[0;31m#logging.getLogger(\"\")\u001b[0m\u001b[0;34m\u001b[0m\u001b[0;34m\u001b[0m\u001b[0;34m\u001b[0m\u001b[0m\n\u001b[0;32m---> 28\u001b[0;31m \u001b[0msw\u001b[0m\u001b[0;34m.\u001b[0m\u001b[0mforward_stepwise\u001b[0m\u001b[0;34m(\u001b[0m\u001b[0mdata_df\u001b[0m\u001b[0;34m.\u001b[0m\u001b[0mdrop\u001b[0m\u001b[0;34m(\u001b[0m\u001b[0;34m\"target\"\u001b[0m\u001b[0;34m,\u001b[0m\u001b[0maxis\u001b[0m\u001b[0;34m=\u001b[0m\u001b[0;36m1\u001b[0m\u001b[0;34m)\u001b[0m\u001b[0;34m[\u001b[0m\u001b[0;34m[\u001b[0m\u001b[0;34m'a'\u001b[0m\u001b[0;34m,\u001b[0m \u001b[0;34m'b'\u001b[0m\u001b[0;34m,\u001b[0m \u001b[0;34m'c'\u001b[0m\u001b[0;34m,\u001b[0m \u001b[0;34m'd'\u001b[0m\u001b[0;34m,\u001b[0m \u001b[0;34m'e'\u001b[0m\u001b[0;34m,\u001b[0m \u001b[0;34m'f'\u001b[0m\u001b[0;34m]\u001b[0m\u001b[0;34m]\u001b[0m\u001b[0;34m,\u001b[0m \u001b[0mdata_df\u001b[0m\u001b[0;34m[\u001b[0m\u001b[0;34m'target'\u001b[0m\u001b[0;34m]\u001b[0m\u001b[0;34m,\u001b[0m \u001b[0mn_combs\u001b[0m\u001b[0;34m=\u001b[0m\u001b[0;36m1\u001b[0m\u001b[0;34m,\u001b[0m \u001b[0mrounding\u001b[0m\u001b[0;34m=\u001b[0m\u001b[0;36m4\u001b[0m\u001b[0;34m,\u001b[0m \u001b[0madd_always\u001b[0m\u001b[0;34m=\u001b[0m\u001b[0;32mFalse\u001b[0m\u001b[0;34m,\u001b[0m \u001b[0mverbose\u001b[0m\u001b[0;34m=\u001b[0m\u001b[0mlogging\u001b[0m\u001b[0;34m.\u001b[0m\u001b[0mDEBUG\u001b[0m\u001b[0;34m,\u001b[0m \u001b[0m_scorer\u001b[0m \u001b[0;34m=\u001b[0m \u001b[0mmyfunc2\u001b[0m\u001b[0;34m)\u001b[0m\u001b[0;34m\u001b[0m\u001b[0;34m\u001b[0m\u001b[0m\n\u001b[0m",
      "\u001b[0;32m~/codes/instrumentum/src/instrumentum/features/stepwise.py\u001b[0m in \u001b[0;36mforward_stepwise\u001b[0;34m(X_train, y_train, n_combs, rounding, add_always, _scorer, verbose, n_jobs)\u001b[0m\n\u001b[1;32m    179\u001b[0m         \u001b[0mlogger\u001b[0m\u001b[0;34m.\u001b[0m\u001b[0minfo\u001b[0m\u001b[0;34m(\u001b[0m\u001b[0;34m\"Combinations to test: %s\"\u001b[0m\u001b[0;34m,\u001b[0m \u001b[0mlen\u001b[0m\u001b[0;34m(\u001b[0m\u001b[0mcombs\u001b[0m\u001b[0;34m)\u001b[0m\u001b[0;34m)\u001b[0m\u001b[0;34m\u001b[0m\u001b[0;34m\u001b[0m\u001b[0m\n\u001b[1;32m    180\u001b[0m \u001b[0;34m\u001b[0m\u001b[0m\n\u001b[0;32m--> 181\u001b[0;31m         ret = Parallel(n_jobs=n_jobs)(\n\u001b[0m\u001b[1;32m    182\u001b[0m             delayed(_run_scorer)(\n\u001b[1;32m    183\u001b[0m                 \u001b[0mX_train\u001b[0m\u001b[0;34m,\u001b[0m\u001b[0;34m\u001b[0m\u001b[0;34m\u001b[0m\u001b[0m\n",
      "\u001b[0;32m~/Library/Caches/pypoetry/virtualenvs/instrumentum-X6s00uqR-py3.8/lib/python3.8/site-packages/joblib/parallel.py\u001b[0m in \u001b[0;36m__call__\u001b[0;34m(self, iterable)\u001b[0m\n\u001b[1;32m   1054\u001b[0m \u001b[0;34m\u001b[0m\u001b[0m\n\u001b[1;32m   1055\u001b[0m             \u001b[0;32mwith\u001b[0m \u001b[0mself\u001b[0m\u001b[0;34m.\u001b[0m\u001b[0m_backend\u001b[0m\u001b[0;34m.\u001b[0m\u001b[0mretrieval_context\u001b[0m\u001b[0;34m(\u001b[0m\u001b[0;34m)\u001b[0m\u001b[0;34m:\u001b[0m\u001b[0;34m\u001b[0m\u001b[0;34m\u001b[0m\u001b[0m\n\u001b[0;32m-> 1056\u001b[0;31m                 \u001b[0mself\u001b[0m\u001b[0;34m.\u001b[0m\u001b[0mretrieve\u001b[0m\u001b[0;34m(\u001b[0m\u001b[0;34m)\u001b[0m\u001b[0;34m\u001b[0m\u001b[0;34m\u001b[0m\u001b[0m\n\u001b[0m\u001b[1;32m   1057\u001b[0m             \u001b[0;31m# Make sure that we get a last message telling us we are done\u001b[0m\u001b[0;34m\u001b[0m\u001b[0;34m\u001b[0m\u001b[0;34m\u001b[0m\u001b[0m\n\u001b[1;32m   1058\u001b[0m             \u001b[0melapsed_time\u001b[0m \u001b[0;34m=\u001b[0m \u001b[0mtime\u001b[0m\u001b[0;34m.\u001b[0m\u001b[0mtime\u001b[0m\u001b[0;34m(\u001b[0m\u001b[0;34m)\u001b[0m \u001b[0;34m-\u001b[0m \u001b[0mself\u001b[0m\u001b[0;34m.\u001b[0m\u001b[0m_start_time\u001b[0m\u001b[0;34m\u001b[0m\u001b[0;34m\u001b[0m\u001b[0m\n",
      "\u001b[0;32m~/Library/Caches/pypoetry/virtualenvs/instrumentum-X6s00uqR-py3.8/lib/python3.8/site-packages/joblib/parallel.py\u001b[0m in \u001b[0;36mretrieve\u001b[0;34m(self)\u001b[0m\n\u001b[1;32m    933\u001b[0m             \u001b[0;32mtry\u001b[0m\u001b[0;34m:\u001b[0m\u001b[0;34m\u001b[0m\u001b[0;34m\u001b[0m\u001b[0m\n\u001b[1;32m    934\u001b[0m                 \u001b[0;32mif\u001b[0m \u001b[0mgetattr\u001b[0m\u001b[0;34m(\u001b[0m\u001b[0mself\u001b[0m\u001b[0;34m.\u001b[0m\u001b[0m_backend\u001b[0m\u001b[0;34m,\u001b[0m \u001b[0;34m'supports_timeout'\u001b[0m\u001b[0;34m,\u001b[0m \u001b[0;32mFalse\u001b[0m\u001b[0;34m)\u001b[0m\u001b[0;34m:\u001b[0m\u001b[0;34m\u001b[0m\u001b[0;34m\u001b[0m\u001b[0m\n\u001b[0;32m--> 935\u001b[0;31m                     \u001b[0mself\u001b[0m\u001b[0;34m.\u001b[0m\u001b[0m_output\u001b[0m\u001b[0;34m.\u001b[0m\u001b[0mextend\u001b[0m\u001b[0;34m(\u001b[0m\u001b[0mjob\u001b[0m\u001b[0;34m.\u001b[0m\u001b[0mget\u001b[0m\u001b[0;34m(\u001b[0m\u001b[0mtimeout\u001b[0m\u001b[0;34m=\u001b[0m\u001b[0mself\u001b[0m\u001b[0;34m.\u001b[0m\u001b[0mtimeout\u001b[0m\u001b[0;34m)\u001b[0m\u001b[0;34m)\u001b[0m\u001b[0;34m\u001b[0m\u001b[0;34m\u001b[0m\u001b[0m\n\u001b[0m\u001b[1;32m    936\u001b[0m                 \u001b[0;32melse\u001b[0m\u001b[0;34m:\u001b[0m\u001b[0;34m\u001b[0m\u001b[0;34m\u001b[0m\u001b[0m\n\u001b[1;32m    937\u001b[0m                     \u001b[0mself\u001b[0m\u001b[0;34m.\u001b[0m\u001b[0m_output\u001b[0m\u001b[0;34m.\u001b[0m\u001b[0mextend\u001b[0m\u001b[0;34m(\u001b[0m\u001b[0mjob\u001b[0m\u001b[0;34m.\u001b[0m\u001b[0mget\u001b[0m\u001b[0;34m(\u001b[0m\u001b[0;34m)\u001b[0m\u001b[0;34m)\u001b[0m\u001b[0;34m\u001b[0m\u001b[0;34m\u001b[0m\u001b[0m\n",
      "\u001b[0;32m~/Library/Caches/pypoetry/virtualenvs/instrumentum-X6s00uqR-py3.8/lib/python3.8/site-packages/joblib/_parallel_backends.py\u001b[0m in \u001b[0;36mwrap_future_result\u001b[0;34m(future, timeout)\u001b[0m\n\u001b[1;32m    540\u001b[0m         AsyncResults.get from multiprocessing.\"\"\"\n\u001b[1;32m    541\u001b[0m         \u001b[0;32mtry\u001b[0m\u001b[0;34m:\u001b[0m\u001b[0;34m\u001b[0m\u001b[0;34m\u001b[0m\u001b[0m\n\u001b[0;32m--> 542\u001b[0;31m             \u001b[0;32mreturn\u001b[0m \u001b[0mfuture\u001b[0m\u001b[0;34m.\u001b[0m\u001b[0mresult\u001b[0m\u001b[0;34m(\u001b[0m\u001b[0mtimeout\u001b[0m\u001b[0;34m=\u001b[0m\u001b[0mtimeout\u001b[0m\u001b[0;34m)\u001b[0m\u001b[0;34m\u001b[0m\u001b[0;34m\u001b[0m\u001b[0m\n\u001b[0m\u001b[1;32m    543\u001b[0m         \u001b[0;32mexcept\u001b[0m \u001b[0mCfTimeoutError\u001b[0m \u001b[0;32mas\u001b[0m \u001b[0me\u001b[0m\u001b[0;34m:\u001b[0m\u001b[0;34m\u001b[0m\u001b[0;34m\u001b[0m\u001b[0m\n\u001b[1;32m    544\u001b[0m             \u001b[0;32mraise\u001b[0m \u001b[0mTimeoutError\u001b[0m \u001b[0;32mfrom\u001b[0m \u001b[0me\u001b[0m\u001b[0;34m\u001b[0m\u001b[0;34m\u001b[0m\u001b[0m\n",
      "\u001b[0;32m/Library/Frameworks/Python.framework/Versions/3.8/lib/python3.8/concurrent/futures/_base.py\u001b[0m in \u001b[0;36mresult\u001b[0;34m(self, timeout)\u001b[0m\n\u001b[1;32m    432\u001b[0m                 \u001b[0;32mreturn\u001b[0m \u001b[0mself\u001b[0m\u001b[0;34m.\u001b[0m\u001b[0m__get_result\u001b[0m\u001b[0;34m(\u001b[0m\u001b[0;34m)\u001b[0m\u001b[0;34m\u001b[0m\u001b[0;34m\u001b[0m\u001b[0m\n\u001b[1;32m    433\u001b[0m \u001b[0;34m\u001b[0m\u001b[0m\n\u001b[0;32m--> 434\u001b[0;31m             \u001b[0mself\u001b[0m\u001b[0;34m.\u001b[0m\u001b[0m_condition\u001b[0m\u001b[0;34m.\u001b[0m\u001b[0mwait\u001b[0m\u001b[0;34m(\u001b[0m\u001b[0mtimeout\u001b[0m\u001b[0;34m)\u001b[0m\u001b[0;34m\u001b[0m\u001b[0;34m\u001b[0m\u001b[0m\n\u001b[0m\u001b[1;32m    435\u001b[0m \u001b[0;34m\u001b[0m\u001b[0m\n\u001b[1;32m    436\u001b[0m             \u001b[0;32mif\u001b[0m \u001b[0mself\u001b[0m\u001b[0;34m.\u001b[0m\u001b[0m_state\u001b[0m \u001b[0;32min\u001b[0m \u001b[0;34m[\u001b[0m\u001b[0mCANCELLED\u001b[0m\u001b[0;34m,\u001b[0m \u001b[0mCANCELLED_AND_NOTIFIED\u001b[0m\u001b[0;34m]\u001b[0m\u001b[0;34m:\u001b[0m\u001b[0;34m\u001b[0m\u001b[0;34m\u001b[0m\u001b[0m\n",
      "\u001b[0;32m/Library/Frameworks/Python.framework/Versions/3.8/lib/python3.8/threading.py\u001b[0m in \u001b[0;36mwait\u001b[0;34m(self, timeout)\u001b[0m\n\u001b[1;32m    300\u001b[0m         \u001b[0;32mtry\u001b[0m\u001b[0;34m:\u001b[0m    \u001b[0;31m# restore state no matter what (e.g., KeyboardInterrupt)\u001b[0m\u001b[0;34m\u001b[0m\u001b[0;34m\u001b[0m\u001b[0m\n\u001b[1;32m    301\u001b[0m             \u001b[0;32mif\u001b[0m \u001b[0mtimeout\u001b[0m \u001b[0;32mis\u001b[0m \u001b[0;32mNone\u001b[0m\u001b[0;34m:\u001b[0m\u001b[0;34m\u001b[0m\u001b[0;34m\u001b[0m\u001b[0m\n\u001b[0;32m--> 302\u001b[0;31m                 \u001b[0mwaiter\u001b[0m\u001b[0;34m.\u001b[0m\u001b[0macquire\u001b[0m\u001b[0;34m(\u001b[0m\u001b[0;34m)\u001b[0m\u001b[0;34m\u001b[0m\u001b[0;34m\u001b[0m\u001b[0m\n\u001b[0m\u001b[1;32m    303\u001b[0m                 \u001b[0mgotit\u001b[0m \u001b[0;34m=\u001b[0m \u001b[0;32mTrue\u001b[0m\u001b[0;34m\u001b[0m\u001b[0;34m\u001b[0m\u001b[0m\n\u001b[1;32m    304\u001b[0m             \u001b[0;32melse\u001b[0m\u001b[0;34m:\u001b[0m\u001b[0;34m\u001b[0m\u001b[0;34m\u001b[0m\u001b[0m\n",
      "\u001b[0;31mKeyboardInterrupt\u001b[0m: "
     ]
    }
   ],
   "source": [
    "import instrumentum.features.stepwise as sw\n",
    "import pandas as pd\n",
    "\n",
    "from sklearn.model_selection import cross_val_score\n",
    "from sklearn.model_selection import StratifiedKFold, RepeatedStratifiedKFold\n",
    "from sklearn.tree import DecisionTreeClassifier\n",
    "import logging\n",
    "\n",
    "from instrumentum.utils.scorer_wrappers import optimizer_optuna_rf as rf, optimizer_optuna_xgb as xgb_\n",
    "\n",
    "data_file = \"./sample_data/simple.csv\"\n",
    "data_df = pd.read_csv(data_file)\n",
    "\n",
    "data_df.loc[data_df['target'] == -1, 'target'] = 0\n",
    "\n",
    "def myfunc2(X_train, y_train):\n",
    "    ret, _ = rf(X_train, y_train,n_trials=12, n_repeats=1, verbose=False)\n",
    "    return ret\n",
    "\n",
    "def myfunc(X_train, y_train):\n",
    "\n",
    "    model = DecisionTreeClassifier(random_state=0)\n",
    "    cv = RepeatedStratifiedKFold(n_splits=5, n_repeats=2)\n",
    "    return cross_val_score(model, X_train, y_train, scoring='roc_auc', cv=cv).mean()\n",
    "\n",
    "#logging.getLogger(\"\")\n",
    "sw.forward_stepwise(data_df.drop(\"target\",axis=1)[['a', 'b', 'c', 'd', 'e', 'f']], data_df['target'], n_combs=1, rounding=4, add_always=False, verbose=logging.DEBUG, _scorer = myfunc2)\n"
   ]
  },
  {
   "cell_type": "code",
   "execution_count": 9,
   "metadata": {},
   "outputs": [
    {
     "output_type": "stream",
     "name": "stdout",
     "text": [
      "Iteration:  0  Score:  0.7560299709409709\n",
      "Iteration:  1  Score:  0.7563769664587665\n",
      "Iteration:  2  Score:  0.779769069011669\n",
      "Iteration:  3  Score:  0.7863203255106255\n",
      "Iteration:  4  Score:  0.7558936977213977\n",
      "Iteration:  5  Score:  0.7552819823722824\n",
      "Iteration:  6  Score:  0.7865186296464296\n",
      "Iteration:  7  Score:  0.7606478907051407\n",
      "Iteration:  8  Score:  0.7545928727576229\n",
      "Iteration:  9  Score:  0.7586741680895182\n",
      "Iteration:  10  Score:  0.8388630885219885\n",
      "Iteration:  11  Score:  0.8554777267051268\n",
      "Iteration:  12  Score:  0.8618255170272171\n",
      "Iteration:  13  Score:  0.8628325427503928\n",
      "Iteration:  14  Score:  0.8272187739747741\n"
     ]
    },
    {
     "output_type": "execute_result",
     "data": {
      "text/plain": [
       "(0.8628325427503928,\n",
       " RandomForestClassifier(max_depth=9.612430201103418, n_estimators=119))"
      ]
     },
     "metadata": {},
     "execution_count": 9
    }
   ],
   "source": [
    "from instrumentum.utils.scorer_wrappers import optimizer_optuna_rf as rf, optimizer_optuna_xgb as xgb\n",
    "\n",
    "rf(data_df[['a']], data_df['target'],n_trials=15, n_repeats=2, verbose=True)\n"
   ]
  },
  {
   "cell_type": "code",
   "execution_count": 11,
   "metadata": {},
   "outputs": [
    {
     "output_type": "stream",
     "name": "stdout",
     "text": [
      "Iteration:  0  Score:  0.8817018400685402\n",
      "Iteration:  1  Score:  0.9041443745970745\n",
      "Iteration:  2  Score:  0.8955893184343683\n",
      "Iteration:  3  Score:  0.8890379322711823\n",
      "Iteration:  4  Score:  0.8891576087892588\n",
      "Iteration:  5  Score:  0.8895585561580062\n",
      "Iteration:  6  Score:  0.8909287485158485\n",
      "Iteration:  7  Score:  0.8872166206609707\n",
      "Iteration:  8  Score:  0.9017355719835219\n",
      "Iteration:  9  Score:  0.8888673473042473\n",
      "Iteration:  10  Score:  0.9069727628480628\n",
      "Iteration:  11  Score:  0.9071147960014458\n",
      "Iteration:  12  Score:  0.9079464694672195\n",
      "Iteration:  13  Score:  0.9060781544446044\n",
      "Iteration:  14  Score:  0.8956785457634957\n"
     ]
    },
    {
     "output_type": "execute_result",
     "data": {
      "text/plain": [
       "(0.9079464694672195,\n",
       " RandomForestClassifier(max_depth=9.300235249986745, n_estimators=115))"
      ]
     },
     "metadata": {},
     "execution_count": 11
    }
   ],
   "source": [
    "rf(data_df[['a', 'b', 'c']], data_df['target'],n_trials=15, n_repeats=2, verbose=True)"
   ]
  },
  {
   "cell_type": "code",
   "execution_count": 15,
   "metadata": {},
   "outputs": [
    {
     "output_type": "execute_result",
     "data": {
      "text/plain": [
       "0.8141794900571602"
      ]
     },
     "metadata": {},
     "execution_count": 15
    }
   ],
   "source": [
    "myfunc(data_df[['a', 'b', 'c']], data_df['target'])"
   ]
  },
  {
   "cell_type": "code",
   "execution_count": 32,
   "metadata": {},
   "outputs": [],
   "source": [
    "from itertools import product\n",
    "\n",
    "a = [i for i, x in enumerate([False, True, False, True, True]) if x]\n"
   ]
  },
  {
   "cell_type": "code",
   "execution_count": 43,
   "metadata": {},
   "outputs": [
    {
     "output_type": "execute_result",
     "data": {
      "text/plain": [
       "1"
      ]
     },
     "metadata": {},
     "execution_count": 43
    }
   ],
   "source": [
    "#data_df.iloc[:, a]\n",
    "data_df.columns.get_loc('b')"
   ]
  }
 ],
 "metadata": {
  "kernelspec": {
   "name": "python3",
   "display_name": "Python 3.8.1 64-bit ('instrumentum-X6s00uqR-py3.8': venv)",
   "metadata": {
    "interpreter": {
     "hash": "1f443f706969d128922edc6f200c7b7366e62043f716a0044140bf1a118ed8c0"
    }
   }
  },
  "language_info": {
   "codemirror_mode": {
    "name": "ipython",
    "version": 3
   },
   "file_extension": ".py",
   "mimetype": "text/x-python",
   "name": "python",
   "nbconvert_exporter": "python",
   "pygments_lexer": "ipython3",
   "version": "3.8.1"
  }
 },
 "nbformat": 4,
 "nbformat_minor": 4
}