{
 "cells": [
  {
   "cell_type": "markdown",
   "source": [
    "# Example usage\n",
    "\n",
    "To use `instrumentum` in a project:"
   ],
   "metadata": {}
  },
  {
   "cell_type": "code",
   "execution_count": 1,
   "source": [
    "import instrumentum\n",
    "\n",
    "print(instrumentum.__version__)"
   ],
   "outputs": [
    {
     "output_type": "stream",
     "name": "stdout",
     "text": [
      "0.1.2\n"
     ]
    }
   ],
   "metadata": {}
  },
  {
   "cell_type": "code",
   "execution_count": 12,
   "metadata": {},
   "outputs": [
    {
     "output_type": "stream",
     "name": "stdout",
     "text": [
      "Total unique keys that with a possitive value:  2\nTotal records of ckeys that with a possitive value:  13\nTotal unique keys with no possitive value:  2\nTotal records of customers with no possitive values:  10\n"
     ]
    }
   ],
   "source": [
    "import instrumentum.time_series as ts\n",
    "import pandas as pd\n",
    "\n",
    "data_file = \"./sample_data/time_series.csv\"\n",
    "data_df = pd.read_csv(data_file)\n",
    "\n",
    "ts.ts_print(data_df, col_target=\"ACQUIRED\", col_key=\"CUSTOMER_KEY\")"
   ]
  }
 ],
 "metadata": {
  "kernelspec": {
   "name": "python3",
   "display_name": "Python 3.9.1 64-bit ('instrumentum-X6s00uqR-py3.9': venv)",
   "metadata": {
    "interpreter": {
     "hash": "f5c53fe992fe1194810e35621763e88e8a1ccd02caadcfaf7208fcbf95ceffd2"
    }
   }
  },
  "language_info": {
   "codemirror_mode": {
    "name": "ipython",
    "version": 3
   },
   "file_extension": ".py",
   "mimetype": "text/x-python",
   "name": "python",
   "nbconvert_exporter": "python",
   "pygments_lexer": "ipython3",
   "version": "3.9.1"
  }
 },
 "nbformat": 4,
 "nbformat_minor": 4
}